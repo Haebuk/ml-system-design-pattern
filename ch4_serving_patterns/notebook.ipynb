{
 "cells": [
  {
   "cell_type": "code",
   "execution_count": null,
   "metadata": {},
   "outputs": [],
   "source": [
    "from sklearn.ensemble import RandomForestClassifier\n",
    "from sklearn.model_selection import train_test_split"
   ]
  }
 ],
 "metadata": {
  "interpreter": {
   "hash": "a09e7d17922b2ac17c6742cdb7369e9df88a884f1cc1e0784aaed9c25ce696bd"
  },
  "kernelspec": {
   "display_name": "Python 3.8.12 ('afidev')",
   "language": "python",
   "name": "python3"
  },
  "language_info": {
   "name": "python",
   "version": "3.8.12"
  },
  "orig_nbformat": 4
 },
 "nbformat": 4,
 "nbformat_minor": 2
}
